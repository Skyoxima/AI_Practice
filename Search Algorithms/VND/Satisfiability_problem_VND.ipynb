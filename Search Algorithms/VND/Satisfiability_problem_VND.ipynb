{
 "cells": [
  {
   "cell_type": "markdown",
   "metadata": {},
   "source": [
    "<h2 style = \"text-align: center; font-weight: 700\">Variable Neighbourhood Descent for SAT Problem</h2>"
   ]
  },
  {
   "cell_type": "code",
   "execution_count": 1,
   "metadata": {},
   "outputs": [],
   "source": [
    "from copy import deepcopy"
   ]
  },
  {
   "cell_type": "markdown",
   "metadata": {},
   "source": [
    "#### Heuristic Function\n",
    "###### Operates on global variables declared above for effective data sharing for the exec function"
   ]
  },
  {
   "cell_type": "code",
   "execution_count": 2,
   "metadata": {},
   "outputs": [],
   "source": [
    "def heuristic(curr_state, clause_list):\n",
    "  hn = 0\n",
    "  ans = None\n",
    "  loc_dict = {\"ans\": ans, \"curr_state\": curr_state}           \n",
    "  #! ↑ The exec function will only be able to modify these two variables and nothing else as it should for max. security\n",
    "\n",
    "  for i in range(len(clause_list)):\n",
    "    exec(clause_list[i], {}, loc_dict)                  #* Working! # no globals and local_dict with 2 required variables\n",
    "    ans = loc_dict[\"ans\"]                               # changing local ans to refer to what exec's ans was\n",
    "    if ans == True:          \n",
    "      hn += 1\n",
    "      \n",
    "  return hn"
   ]
  },
  {
   "cell_type": "markdown",
   "metadata": {},
   "source": [
    "### Movegen Functions"
   ]
  },
  {
   "cell_type": "markdown",
   "metadata": {},
   "source": [
    "#### 1-bit Flip"
   ]
  },
  {
   "cell_type": "code",
   "execution_count": 3,
   "metadata": {},
   "outputs": [],
   "source": [
    "def one_bit_flip_perms(curr_state):\n",
    "  new_states = []\n",
    "  for i in range(len(curr_state)):\n",
    "    new_states.append(deepcopy(curr_state))\n",
    "    new_states[-1][i] = not new_states[-1][i]\n",
    "    \n",
    "  return new_states"
   ]
  },
  {
   "cell_type": "markdown",
   "metadata": {},
   "source": [
    "#### 2-bit Flip"
   ]
  },
  {
   "cell_type": "code",
   "execution_count": 4,
   "metadata": {},
   "outputs": [],
   "source": [
    "def two_bit_flip_perms(curr_state):\n",
    "  gap = 1\n",
    "  new_states = []\n",
    "  while True:\n",
    "    i = 0\n",
    "    j = i + gap\n",
    "    while i < len(curr_state) - gap:\n",
    "      new_states.append(deepcopy(curr_state))\n",
    "      new_states[-1][i] = not(new_states[-1][i])\n",
    "      new_states[-1][j] = not(new_states[-1][j])\n",
    "      i += 1\n",
    "      j = i + gap\n",
    "    gap += 1\n",
    "    if gap > len(curr_state) - 1:\n",
    "      break\n",
    "  \n",
    "  return new_states"
   ]
  },
  {
   "cell_type": "markdown",
   "metadata": {},
   "source": [
    "#### not 2-bit Flip (3-bits flip in case of 5 literals)"
   ]
  },
  {
   "cell_type": "code",
   "execution_count": 5,
   "metadata": {},
   "outputs": [],
   "source": [
    "def not_2_bit_flip_perms(curr_state):\n",
    "  gap = 1\n",
    "  new_states = []\n",
    "  while True:\n",
    "    i = 0\n",
    "    j = i + gap\n",
    "    while i < len(curr_state) - gap:\n",
    "      new_states.append(deepcopy(curr_state))\n",
    "      for t in range (len(new_states[-1])):\n",
    "        new_states[-1][t] = not(new_states[-1][t])\n",
    "      new_states[-1][i] = not(new_states[-1][i])\n",
    "      new_states[-1][j] = not(new_states[-1][j])\n",
    "      i += 1\n",
    "      j = i + gap\n",
    "    gap += 1\n",
    "    if gap > len(curr_state) - 1:\n",
    "      break\n",
    "  \n",
    "  return new_states"
   ]
  },
  {
   "cell_type": "markdown",
   "metadata": {},
   "source": [
    "#### not 1-bit Flip (4-bits flip in case of 5 literals)"
   ]
  },
  {
   "cell_type": "code",
   "execution_count": 6,
   "metadata": {},
   "outputs": [],
   "source": [
    "def not_1_bit_flips(curr_state):\n",
    "  new_states = []\n",
    "  for i in range(len(curr_state)):\n",
    "    new_states.append(deepcopy(curr_state))\n",
    "    for t in range (len(new_states[-1])):\n",
    "        new_states[-1][t] = not(new_states[-1][t])\n",
    "    new_states[-1][i] = not new_states[-1][i]\n",
    "    \n",
    "  return new_states"
   ]
  },
  {
   "cell_type": "markdown",
   "metadata": {},
   "source": [
    "#### All-bits flip (5-bits flip in case of 5 literals)"
   ]
  },
  {
   "cell_type": "code",
   "execution_count": 7,
   "metadata": {},
   "outputs": [],
   "source": [
    "def all_flip(curr_state):\n",
    "  return [[not(i) for i in curr_state]]"
   ]
  },
  {
   "cell_type": "markdown",
   "metadata": {},
   "source": [
    "#### Utility FinalAns print function"
   ]
  },
  {
   "cell_type": "code",
   "execution_count": 8,
   "metadata": {},
   "outputs": [],
   "source": [
    "def summary_print(all_paths):\n",
    "  for i in all_paths:\n",
    "    print(f\"\\033[38;5;44mFor {i[-1]},\\033[0m\")\n",
    "    for j in i[0]:\n",
    "      if i[0].index(j) != len(i[0]) - 1:            # to avoid the last bottom arrow\n",
    "        print(\"|\", *j[0], \"| h(n) = \", j[1], end = \"\\n\\t\\t↓\\n\")\n",
    "      else:\n",
    "        print(\"|\", *j[0], \"| h(n) = \", j[1], end = \"\\n\\n\")"
   ]
  },
  {
   "cell_type": "markdown",
   "metadata": {},
   "source": [
    "#### <-- Main --> Variable Neighbourhood Descent for SAT (satisfiabillity) problem"
   ]
  },
  {
   "cell_type": "code",
   "execution_count": 9,
   "metadata": {},
   "outputs": [],
   "source": [
    "def SAT_VND(start_state, clause_list):\n",
    "  all_paths = []\n",
    "  movegen_funlist = [one_bit_flip_perms, two_bit_flip_perms, not_2_bit_flip_perms, not_1_bit_flips, all_flip]\n",
    "\n",
    "  # 5 movegens\n",
    "  for i in range(len(movegen_funlist)):\n",
    "    node = [start_state, heuristic(start_state, clause_list)]\n",
    "    path = []\n",
    "\n",
    "    while True:\n",
    "      if node[1] != len(clause_list):\n",
    "        new_states = movegen_funlist[i](node[0])\n",
    "        for j in range(len(new_states)):\n",
    "          new_states[j] = [new_states[j], heuristic(new_states[j], clause_list)]\n",
    "        new_states.sort(key = lambda x: x[1], reverse = True)\n",
    "        new_node = new_states[0]\n",
    "        if new_node[1] > node[1]:\n",
    "          path.append(node)           \n",
    "          node = new_node\n",
    "        else:\n",
    "          break\n",
    "      \n",
    "      else:\n",
    "        break\n",
    "    if(node[1] == len(clause_list)):\n",
    "      path.append(node)\n",
    "      all_paths.append([path, f\"{i + 1}-bit flip Movegen\"])     \n",
    "    else:\n",
    "      print(f\"\\033[38;5;197mFailed to find a path Current state to the Satisfied state using {i + 1}-bit flips\\033[0m\")\n",
    "  \n",
    "  summary_print(all_paths)\n"
   ]
  },
  {
   "cell_type": "markdown",
   "metadata": {},
   "source": [
    "#### Callers"
   ]
  },
  {
   "cell_type": "markdown",
   "metadata": {},
   "source": [
    "<p style=\"font-size: 16px;\"> Logical sentence is stored in a form of list of strings with each string being a seperate clause </p>"
   ]
  },
  {
   "cell_type": "markdown",
   "metadata": {},
   "source": [
    "##### F = (A V ~B) ^ (B V ~C) ^ (~B) ^ (~C V E) ^ (A V C) ^ (~C V ~D)"
   ]
  },
  {
   "cell_type": "code",
   "execution_count": 10,
   "metadata": {},
   "outputs": [
    {
     "name": "stdout",
     "output_type": "stream",
     "text": [
      "\u001b[38;5;197mFailed to find a path Current state to the Satisfied state using 5-bit flips\u001b[0m\n",
      "\u001b[38;5;44mFor 1-bit flip Movegen,\u001b[0m\n",
      "| True True True True True | h(n) =  4\n",
      "\t\t↓\n",
      "| True True False True True | h(n) =  5\n",
      "\t\t↓\n",
      "| True False False True True | h(n) =  6\n",
      "\n",
      "\u001b[38;5;44mFor 2-bit flip Movegen,\u001b[0m\n",
      "| True True True True True | h(n) =  4\n",
      "\t\t↓\n",
      "| True False False True True | h(n) =  6\n",
      "\n",
      "\u001b[38;5;44mFor 3-bit flip Movegen,\u001b[0m\n",
      "| True True True True True | h(n) =  4\n",
      "\t\t↓\n",
      "| True False False True False | h(n) =  6\n",
      "\n",
      "\u001b[38;5;44mFor 4-bit flip Movegen,\u001b[0m\n",
      "| True True True True True | h(n) =  4\n",
      "\t\t↓\n",
      "| True False False False False | h(n) =  6\n",
      "\n"
     ]
    }
   ],
   "source": [
    "clause_list = [\"ans = (curr_state[0] or not curr_state[1])\", \"ans = (curr_state[1] or not curr_state[2])\", \"ans = (not curr_state[1])\", \"ans = (not curr_state[2] or curr_state[4])\", \"ans = (curr_state[0] or curr_state[2])\", \"ans = (not curr_state[2] or not curr_state[2])\"]\n",
    "SAT_VND([True for i in range(5)], clause_list)"
   ]
  },
  {
   "cell_type": "markdown",
   "metadata": {},
   "source": [
    "##### F = ( A V B) ^ ( A ^ ~C) ^ ( B ^ D ) ^ ( A V ~E)"
   ]
  },
  {
   "cell_type": "code",
   "execution_count": 11,
   "metadata": {},
   "outputs": [
    {
     "name": "stdout",
     "output_type": "stream",
     "text": [
      "\u001b[38;5;197mFailed to find a path Current state to the Satisfied state using 4-bit flips\u001b[0m\n",
      "\u001b[38;5;197mFailed to find a path Current state to the Satisfied state using 5-bit flips\u001b[0m\n",
      "\u001b[38;5;44mFor 1-bit flip Movegen,\u001b[0m\n",
      "| True True True True True | h(n) =  2\n",
      "\t\t↓\n",
      "| True False True True True | h(n) =  3\n",
      "\t\t↓\n",
      "| True False False True True | h(n) =  4\n",
      "\n",
      "\u001b[38;5;44mFor 2-bit flip Movegen,\u001b[0m\n",
      "| True True True True True | h(n) =  2\n",
      "\t\t↓\n",
      "| True False False True True | h(n) =  4\n",
      "\n",
      "\u001b[38;5;44mFor 3-bit flip Movegen,\u001b[0m\n",
      "| True True True True True | h(n) =  2\n",
      "\t\t↓\n",
      "| True False False True False | h(n) =  4\n",
      "\n"
     ]
    }
   ],
   "source": [
    "clause_list = [\"ans = (curr_state[0] or curr_state[1])\", \"ans = (curr_state[0] and not curr_state[2])\", \"ans = (not curr_state[1] and curr_state[3])\", \"ans = (curr_state[0] or not curr_state[4])\"]\n",
    "SAT_VND([True for i in range(5)], clause_list)"
   ]
  }
 ],
 "metadata": {
  "kernelspec": {
   "display_name": "Python 3.10.4 64-bit",
   "language": "python",
   "name": "python3"
  },
  "language_info": {
   "codemirror_mode": {
    "name": "ipython",
    "version": 3
   },
   "file_extension": ".py",
   "mimetype": "text/x-python",
   "name": "python",
   "nbconvert_exporter": "python",
   "pygments_lexer": "ipython3",
   "version": "3.10.4"
  },
  "orig_nbformat": 4,
  "vscode": {
   "interpreter": {
    "hash": "78f5b707d86fd9281530b9fa2dbdbe1b33232c3b651a8e052360c651d4996094"
   }
  }
 },
 "nbformat": 4,
 "nbformat_minor": 2
}
