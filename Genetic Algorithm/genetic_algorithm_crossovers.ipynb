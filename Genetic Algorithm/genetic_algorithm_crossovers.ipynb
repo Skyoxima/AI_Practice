{
 "cells": [
  {
   "attachments": {},
   "cell_type": "markdown",
   "metadata": {},
   "source": [
    "<h2 style=\"text-align: center; font-weight: bold\">Genetic Algorithm Crossovers for Travelling Salesperson Problem</h2>"
   ]
  },
  {
   "cell_type": "code",
   "execution_count": 63,
   "metadata": {},
   "outputs": [],
   "source": [
    "import random\n",
    "from IPython.core.display import Image"
   ]
  },
  {
   "attachments": {},
   "cell_type": "markdown",
   "metadata": {},
   "source": [
    "#### Fixed example, 15 cities "
   ]
  },
  {
   "cell_type": "code",
   "execution_count": 64,
   "metadata": {},
   "outputs": [],
   "source": [
    "Px = ['O', 'D', 'G', 'L', 'A', 'H', 'K', 'M', 'B', 'J', 'F', 'C', 'N', 'I', 'E']\n",
    "Py = ['H', 'G', 'M', 'F', 'O', 'A', 'D', 'K', 'I', 'C', 'N', 'E', 'L', 'B', 'J']"
   ]
  },
  {
   "attachments": {},
   "cell_type": "markdown",
   "metadata": {},
   "source": [
    "#### Randomly generated example, 26 cities"
   ]
  },
  {
   "cell_type": "code",
   "execution_count": 65,
   "metadata": {},
   "outputs": [],
   "source": [
    "# P_n - parent_, C_n - children\n",
    "P1 = [chr(i) for i in range(65, 91)]\n",
    "P2 = [chr(i) for i in range(65, 91)]\n",
    "random.shuffle(P1) \n",
    "random.shuffle(P2)"
   ]
  },
  {
   "attachments": {},
   "cell_type": "markdown",
   "metadata": {},
   "source": [
    "#### Printing Function - utility"
   ]
  },
  {
   "cell_type": "code",
   "execution_count": 66,
   "metadata": {},
   "outputs": [],
   "source": [
    "def tsp_printer(cities: list[str], list_name: str, strong_genes_seq: tuple[int, int], color_code: int) -> None:\n",
    "  print(list_name, end = \": \")\n",
    "  for i in range(len(cities)):\n",
    "    if i not in range(strong_genes_seq[0], strong_genes_seq[1]):\n",
    "      print(cities[i], end = \" \")\n",
    "    else:\n",
    "      print(f\"\\033[38;5;{color_code}m{cities[i]}\", end = \" \\033[0m\")\n",
    "  print()"
   ]
  },
  {
   "cell_type": "code",
   "execution_count": 67,
   "metadata": {},
   "outputs": [
    {
     "name": "stdout",
     "output_type": "stream",
     "text": [
      "P1: X R T S E N V M D \u001b[38;5;208mB \u001b[0m\u001b[38;5;208mJ \u001b[0m\u001b[38;5;208mO \u001b[0m\u001b[38;5;208mP \u001b[0m\u001b[38;5;208mA \u001b[0m\u001b[38;5;208mG \u001b[0m\u001b[38;5;208mC \u001b[0mU K Y Q F W I Z L H \n",
      "P2: P S Y O F J B T E \u001b[38;5;208mN \u001b[0m\u001b[38;5;208mZ \u001b[0m\u001b[38;5;208mW \u001b[0m\u001b[38;5;208mU \u001b[0m\u001b[38;5;208mG \u001b[0m\u001b[38;5;208mK \u001b[0m\u001b[38;5;208mL \u001b[0mM A I R Q X V D C H \n",
      "Px: O D G L A \u001b[38;5;208mH \u001b[0m\u001b[38;5;208mK \u001b[0m\u001b[38;5;208mM \u001b[0m\u001b[38;5;208mB \u001b[0m\u001b[38;5;208mJ \u001b[0mF C N I E \n",
      "Py: H G M F O \u001b[38;5;208mA \u001b[0m\u001b[38;5;208mD \u001b[0m\u001b[38;5;208mK \u001b[0m\u001b[38;5;208mI \u001b[0m\u001b[38;5;208mC \u001b[0mN E L B J \n"
     ]
    }
   ],
   "source": [
    "tsp_printer(P1, \"P1\", (9, 16), 208)\n",
    "tsp_printer(P2, \"P2\", (9, 16), 208)\n",
    "\n",
    "tsp_printer(Px, \"Px\", (5, 10), 208)\n",
    "tsp_printer(Py, \"Py\", (5, 10), 208)"
   ]
  },
  {
   "attachments": {},
   "cell_type": "markdown",
   "metadata": {},
   "source": [
    "#### 1. Ordered Crossover"
   ]
  },
  {
   "cell_type": "code",
   "execution_count": null,
   "metadata": {},
   "outputs": [],
   "source": [
    "Image(filename=\"../Graphs/\")"
   ]
  },
  {
   "cell_type": "code",
   "execution_count": 68,
   "metadata": {},
   "outputs": [],
   "source": [
    "def ordered_crossover(P1: list[str], P2: list[str], strong_genes_seq: tuple[int, int]) -> tuple[list[str], list[str]]:  \n",
    "  \"\"\"\n",
    "  \"strong_genes_seq\" should have the start and end indices of strong genes { [start_index, end_index) },\\n \n",
    "  i.e, the range of genes that are copied untouched in corresponding children (P_n Ξ C_n)\n",
    "  \"\"\"\n",
    "  C1, C2 = [], []\n",
    "  for i in range(strong_genes_seq[0], strong_genes_seq[1]):\n",
    "    C1.append(P1[i])\n",
    "    C2.append(P2[i])\n",
    "\n",
    "  weak_genes_C1 = list(filter(lambda x: x if x not in C1 else None, P2))   # 'x' is Truthy when parameter is 'x' whereas 'None' is falsy when param is 'x'... that's why not using explicit boolean returns is still working\n",
    "  weak_genes_C2 = list(filter(lambda x: x if x not in C2 else None, P1))\n",
    "  \n",
    "  # As I've selected a middle slice to be the strong genes and C1, C2 originally only having those at the beginning, re-arrangement is required, kinda like an oversimplified CRISPR for retaining exact parent features heh\n",
    "  C1 = weak_genes_C1[:strong_genes_seq[0]] + C1 + weak_genes_C1[strong_genes_seq[0]:]\n",
    "  C2 = weak_genes_C2[:strong_genes_seq[0]] + C2 + weak_genes_C2[strong_genes_seq[0]:]\n",
    "\n",
    "  return C1, C2\n",
    "\n",
    "# not my first time using the filter function but this is a good read: https://realpython.com/python-filter-function/"
   ]
  },
  {
   "attachments": {},
   "cell_type": "markdown",
   "metadata": {},
   "source": [
    "##### Example 1 - Random 26 Cities"
   ]
  },
  {
   "cell_type": "code",
   "execution_count": 69,
   "metadata": {},
   "outputs": [
    {
     "name": "stdout",
     "output_type": "stream",
     "text": [
      "Parents were: \n",
      "P1: X R T S E N V M D \u001b[38;5;208mB \u001b[0m\u001b[38;5;208mJ \u001b[0m\u001b[38;5;208mO \u001b[0m\u001b[38;5;208mP \u001b[0m\u001b[38;5;208mA \u001b[0m\u001b[38;5;208mG \u001b[0m\u001b[38;5;208mC \u001b[0mU K Y Q F W I Z L H \n",
      "P2: P S Y O F J B T E \u001b[38;5;208mN \u001b[0m\u001b[38;5;208mZ \u001b[0m\u001b[38;5;208mW \u001b[0m\u001b[38;5;208mU \u001b[0m\u001b[38;5;208mG \u001b[0m\u001b[38;5;208mK \u001b[0m\u001b[38;5;208mL \u001b[0mM A I R Q X V D C H \n",
      "\n",
      "Children are: \n",
      "C1: S Y F T E N Z W U \u001b[38;5;51mB \u001b[0m\u001b[38;5;51mJ \u001b[0m\u001b[38;5;51mO \u001b[0m\u001b[38;5;51mP \u001b[0m\u001b[38;5;51mA \u001b[0m\u001b[38;5;51mG \u001b[0m\u001b[38;5;51mC \u001b[0mK L M I R Q X V D H \n",
      "C2: X R T S E V M D B \u001b[38;5;51mN \u001b[0m\u001b[38;5;51mZ \u001b[0m\u001b[38;5;51mW \u001b[0m\u001b[38;5;51mU \u001b[0m\u001b[38;5;51mG \u001b[0m\u001b[38;5;51mK \u001b[0m\u001b[38;5;51mL \u001b[0mJ O P A C Y Q F I H \n"
     ]
    }
   ],
   "source": [
    "C1, C2 = ordered_crossover(P1, P2, (9, 16))\n",
    "print(\"Parents were: \")\n",
    "tsp_printer(P1, \"P1\", (9, 16), 208)\n",
    "tsp_printer(P2, \"P2\", (9, 16), 208)\n",
    "\n",
    "print(\"\\nChildren are: \")\n",
    "tsp_printer(C1, \"C1\", (9, 16), 51)\n",
    "tsp_printer(C2, \"C2\", (9, 16), 51)"
   ]
  },
  {
   "attachments": {},
   "cell_type": "markdown",
   "metadata": {},
   "source": [
    "##### Example 2 - Fixed 15 cities (manually solved, performed for validation)"
   ]
  },
  {
   "cell_type": "code",
   "execution_count": 70,
   "metadata": {},
   "outputs": [
    {
     "name": "stdout",
     "output_type": "stream",
     "text": [
      "Parents were: \n",
      "Px: O D G L A \u001b[38;5;208mH \u001b[0m\u001b[38;5;208mK \u001b[0m\u001b[38;5;208mM \u001b[0m\u001b[38;5;208mB \u001b[0m\u001b[38;5;208mJ \u001b[0mF C N I E \n",
      "Py: H G M F O \u001b[38;5;208mA \u001b[0m\u001b[38;5;208mD \u001b[0m\u001b[38;5;208mK \u001b[0m\u001b[38;5;208mI \u001b[0m\u001b[38;5;208mC \u001b[0mN E L B J \n",
      "\n",
      "Children are: \n",
      "Cx: G F O A D \u001b[38;5;51mH \u001b[0m\u001b[38;5;51mK \u001b[0m\u001b[38;5;51mM \u001b[0m\u001b[38;5;51mB \u001b[0m\u001b[38;5;51mJ \u001b[0mI C N E L \n",
      "Cy: O G L H M \u001b[38;5;51mA \u001b[0m\u001b[38;5;51mD \u001b[0m\u001b[38;5;51mK \u001b[0m\u001b[38;5;51mI \u001b[0m\u001b[38;5;51mC \u001b[0mB J F N E \n"
     ]
    }
   ],
   "source": [
    "Cx, Cy = ordered_crossover(Px, Py, (5, 10))\n",
    "print(\"Parents were: \")\n",
    "tsp_printer(Px, \"Px\", (5, 10), 208)\n",
    "tsp_printer(Py, \"Py\", (5, 10), 208)\n",
    "\n",
    "print(\"\\nChildren are: \")\n",
    "tsp_printer(Cx, \"Cx\", (5, 10), 51)\n",
    "tsp_printer(Cy, \"Cy\", (5, 10), 51)"
   ]
  },
  {
   "attachments": {},
   "cell_type": "markdown",
   "metadata": {},
   "source": [
    "#### 2. Partially Mapped Crossover"
   ]
  },
  {
   "cell_type": "code",
   "execution_count": 71,
   "metadata": {},
   "outputs": [],
   "source": [
    "def partially_mapped_crossover(P1: list[str], P2: list[str], SGS_endices: tuple[int, int]) -> tuple[list[str], list[str]]:\n",
    "  \"\"\"\n",
    "  \"SGS_endices => Strong Genes Sequence ends-indices\" should have the start and end indices of strong genes { [start_index, end_index) },\\n \n",
    "  i.e, the range of genes that are copied untouched in corresponding children (P_n Ξ C_n)\n",
    "  \"\"\"\n",
    "  SGs_C1, SGs_C2 = P1[SGS_endices[0]: SGS_endices[1]], P2[SGS_endices[0]: SGS_endices[1]]   # the genes that get copied in corr. children as it is\n",
    "\n",
    "  # Done so to copy most of the weak genes as it is (the ones not mapped to anything) as well as leaving out space for the mapped ones in corresponding children\n",
    "  C1 = [city if city not in SGs_C1 else chr(33) for city in P2] \n",
    "  C2 = [city if city not in SGs_C2 else chr(33) for city in P1]\n",
    "  \n",
    "  # strong genes pass down as it is. for the 15 cities example, A D K I C got replaced by H K M B J so now we need to find new places in C1 for A D I C (not K since it's already placed)\n",
    "  for i in range(SGS_endices[0], SGS_endices[1]):\n",
    "    C1[i] = P1[i]\n",
    "    C2[i] = P2[i]\n",
    "  \n",
    "  for i in range(SGS_endices[0], SGS_endices[1]):\n",
    "    if P2[i] not in SGs_C1:\n",
    "      to_ix = P2.index(P1[i])         # using Parents since i ranges in endices, if it would've been from 0 then SGs_n lists could've been used\n",
    "      while to_ix in range(SGS_endices[0], SGS_endices[1]):\n",
    "        to_ix = P2.index(P1[to_ix])\n",
    "      C1[to_ix] = P2[i]\n",
    "  \n",
    "  for i in range(SGS_endices[0], SGS_endices[1]):\n",
    "    if P1[i] not in SGs_C2:\n",
    "      to_ix = P1.index(P2[i])         # char in P1's SGs p_mapped to char in P2 SGs\n",
    "      while to_ix in range(SGS_endices[0], SGS_endices[1]):\n",
    "        to_ix = P1.index(P2[to_ix])\n",
    "      C2[to_ix] = P1[i]\n",
    "\n",
    "  return C1, C2"
   ]
  },
  {
   "attachments": {},
   "cell_type": "markdown",
   "metadata": {},
   "source": [
    "##### Example 1 - Fixed 15 cities (manually solved, performed for validation)"
   ]
  },
  {
   "cell_type": "code",
   "execution_count": 72,
   "metadata": {},
   "outputs": [
    {
     "name": "stdout",
     "output_type": "stream",
     "text": [
      "Parents were: \n",
      "Px: O D G L A \u001b[38;5;208mH \u001b[0m\u001b[38;5;208mK \u001b[0m\u001b[38;5;208mM \u001b[0m\u001b[38;5;208mB \u001b[0m\u001b[38;5;208mJ \u001b[0mF C N I E \n",
      "Py: H G M F O \u001b[38;5;208mA \u001b[0m\u001b[38;5;208mD \u001b[0m\u001b[38;5;208mK \u001b[0m\u001b[38;5;208mI \u001b[0m\u001b[38;5;208mC \u001b[0mN E L B J \n",
      "\n",
      "Children are: \n",
      "Cx: A G D F O \u001b[38;5;51mH \u001b[0m\u001b[38;5;51mK \u001b[0m\u001b[38;5;51mM \u001b[0m\u001b[38;5;51mB \u001b[0m\u001b[38;5;51mJ \u001b[0mN E L I C \n",
      "Cy: O M G L H \u001b[38;5;51mA \u001b[0m\u001b[38;5;51mD \u001b[0m\u001b[38;5;51mK \u001b[0m\u001b[38;5;51mI \u001b[0m\u001b[38;5;51mC \u001b[0mF J N B E \n"
     ]
    }
   ],
   "source": [
    "Cx, Cy = partially_mapped_crossover(Px, Py, (5, 10))\n",
    "print(\"Parents were: \")\n",
    "tsp_printer(Px, \"Px\", (5, 10), 208)\n",
    "tsp_printer(Py, \"Py\", (5, 10), 208)\n",
    "\n",
    "print(\"\\nChildren are: \")\n",
    "tsp_printer(Cx, \"Cx\", (5, 10), 51)\n",
    "tsp_printer(Cy, \"Cy\", (5, 10), 51)"
   ]
  },
  {
   "attachments": {},
   "cell_type": "markdown",
   "metadata": {},
   "source": [
    "##### Example 2 - Random 26 Cities"
   ]
  },
  {
   "cell_type": "code",
   "execution_count": 73,
   "metadata": {},
   "outputs": [
    {
     "name": "stdout",
     "output_type": "stream",
     "text": [
      "Parents were: \n",
      "P1: X R T S E N V M D \u001b[38;5;208mB \u001b[0m\u001b[38;5;208mJ \u001b[0m\u001b[38;5;208mO \u001b[0m\u001b[38;5;208mP \u001b[0m\u001b[38;5;208mA \u001b[0m\u001b[38;5;208mG \u001b[0m\u001b[38;5;208mC \u001b[0mU K Y Q F W I Z L H \n",
      "P2: P S Y O F J B T E \u001b[38;5;208mN \u001b[0m\u001b[38;5;208mZ \u001b[0m\u001b[38;5;208mW \u001b[0m\u001b[38;5;208mU \u001b[0m\u001b[38;5;208mG \u001b[0m\u001b[38;5;208mK \u001b[0m\u001b[38;5;208mL \u001b[0mM A I R Q X V D C H \n",
      "\n",
      "Children are: \n",
      "C1: U S Y W F Z N T E \u001b[38;5;51mB \u001b[0m\u001b[38;5;51mJ \u001b[0m\u001b[38;5;51mO \u001b[0m\u001b[38;5;51mP \u001b[0m\u001b[38;5;51mA \u001b[0m\u001b[38;5;51mG \u001b[0m\u001b[38;5;51mC \u001b[0mM K I R Q X V D L H \n",
      "C2: X R T S E B V M D \u001b[38;5;51mN \u001b[0m\u001b[38;5;51mZ \u001b[0m\u001b[38;5;51mW \u001b[0m\u001b[38;5;51mU \u001b[0m\u001b[38;5;51mG \u001b[0m\u001b[38;5;51mK \u001b[0m\u001b[38;5;51mL \u001b[0mP A Y Q F O I J C H \n"
     ]
    }
   ],
   "source": [
    "C1, C2 = partially_mapped_crossover(P1, P2, (9, 16))\n",
    "print(\"Parents were: \")\n",
    "tsp_printer(P1, \"P1\", (9, 16), 208)\n",
    "tsp_printer(P2, \"P2\", (9, 16), 208)\n",
    "\n",
    "print(\"\\nChildren are: \")\n",
    "tsp_printer(C1, \"C1\", (9, 16), 51)\n",
    "tsp_printer(C2, \"C2\", (9, 16), 51)"
   ]
  }
 ],
 "metadata": {
  "kernelspec": {
   "display_name": "Python 3",
   "language": "python",
   "name": "python3"
  },
  "language_info": {
   "codemirror_mode": {
    "name": "ipython",
    "version": 3
   },
   "file_extension": ".py",
   "mimetype": "text/x-python",
   "name": "python",
   "nbconvert_exporter": "python",
   "pygments_lexer": "ipython3",
   "version": "3.11.1"
  },
  "orig_nbformat": 4,
  "vscode": {
   "interpreter": {
    "hash": "ebea062570bddf9f0ff82298a6abaa90fdb7e45f04beda4ebff22dcf96d4b6e4"
   }
  }
 },
 "nbformat": 4,
 "nbformat_minor": 2
}
