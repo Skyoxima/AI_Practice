{
 "cells": [
  {
   "attachments": {},
   "cell_type": "markdown",
   "metadata": {},
   "source": [
    "<h2 style=\"text-align: center; font-weight: bold\">Genetic Algorithm Crossovers for Travelling Salesperson Problem</h2>"
   ]
  },
  {
   "cell_type": "code",
   "execution_count": 40,
   "metadata": {},
   "outputs": [],
   "source": [
    "import random"
   ]
  },
  {
   "cell_type": "code",
   "execution_count": 41,
   "metadata": {},
   "outputs": [],
   "source": [
    "def tsp_printer(cities: list[str], list_name: str, strong_genes_seq: tuple[int, int], color_code: int) -> None:\n",
    "  print(list_name, end = \": \")\n",
    "  for i in range(25):\n",
    "    if i not in range(strong_genes_seq[0], strong_genes_seq[1]):\n",
    "      print(cities[i], end = \" \")\n",
    "    else:\n",
    "      print(f\"\\033[38;5;{color_code}m{cities[i]}\", end = \" \\033[0m\")\n",
    "  print()"
   ]
  },
  {
   "cell_type": "code",
   "execution_count": 42,
   "metadata": {},
   "outputs": [
    {
     "name": "stdout",
     "output_type": "stream",
     "text": [
      "P1: D U T E O G M S V \u001b[38;5;208mI \u001b[0m\u001b[38;5;208mB \u001b[0m\u001b[38;5;208mH \u001b[0m\u001b[38;5;208mX \u001b[0m\u001b[38;5;208mP \u001b[0m\u001b[38;5;208mR \u001b[0m\u001b[38;5;208mF \u001b[0mL Y C A J K N Z Q \n",
      "P2: K Z M N X J A F Y \u001b[38;5;208mG \u001b[0m\u001b[38;5;208mW \u001b[0m\u001b[38;5;208mU \u001b[0m\u001b[38;5;208mO \u001b[0m\u001b[38;5;208mC \u001b[0m\u001b[38;5;208mE \u001b[0m\u001b[38;5;208mD \u001b[0mS B T V I H L P R \n"
     ]
    }
   ],
   "source": [
    "# P_n - parent_, C_n - children\n",
    "P1 = [chr(i) for i in range(65, 91)]\n",
    "P2 = [chr(i) for i in range(65, 91)]\n",
    "random.shuffle(P1) \n",
    "random.shuffle(P2)\n",
    "tsp_printer(P1, \"P1\", (9, 16), 208)\n",
    "tsp_printer(P2, \"P2\", (9, 16), 208)"
   ]
  },
  {
   "attachments": {},
   "cell_type": "markdown",
   "metadata": {},
   "source": [
    "#### 1. Ordered Crossover"
   ]
  },
  {
   "cell_type": "code",
   "execution_count": 43,
   "metadata": {},
   "outputs": [],
   "source": [
    "def ordered_crossover(P1: list[str], P2: list[str], strong_genes_seq: tuple[int, int]) -> tuple[list[str], list[str]]:  \n",
    "  \"\"\"\n",
    "  \"strong_genes_seq\" should have the start and end indices of strong genes { [start_index, end_index) },\\n \n",
    "  i.e, the range of genes that are copied untouched in corresponding children (P_n Ξ C_n)\n",
    "  \"\"\"\n",
    "  C1, C2 = [], []\n",
    "  for i in range(strong_genes_seq[0], strong_genes_seq[1]):\n",
    "    C1.append(P1[i])\n",
    "    C2.append(P2[i])\n",
    "\n",
    "  weak_genes_C1 = list(filter(lambda x: x if x not in C1 else None, P2))   # 'x' is Truthy when parameter is 'x' whereas 'None' is falsy when param is 'x'... that's why not using explicit boolean returns is still working\n",
    "  weak_genes_C2 = list(filter(lambda x: x if x not in C2 else None, P1))\n",
    "  \n",
    "  C1 = weak_genes_C1[:9] + C1 + weak_genes_C1[10:]\n",
    "  C2 = weak_genes_C2[:9] + C2 + weak_genes_C2[10:]\n",
    "\n",
    "  return C1, C2\n",
    "\n",
    "# not my first time using the filter function but this is a good read: https://realpython.com/python-filter-function/"
   ]
  },
  {
   "cell_type": "code",
   "execution_count": 44,
   "metadata": {},
   "outputs": [
    {
     "name": "stdout",
     "output_type": "stream",
     "text": [
      "Parents were: \n",
      "P1: D U T E O G M S V \u001b[38;5;208mI \u001b[0m\u001b[38;5;208mB \u001b[0m\u001b[38;5;208mH \u001b[0m\u001b[38;5;208mX \u001b[0m\u001b[38;5;208mP \u001b[0m\u001b[38;5;208mR \u001b[0m\u001b[38;5;208mF \u001b[0mL Y C A J K N Z Q \n",
      "P2: K Z M N X J A F Y \u001b[38;5;208mG \u001b[0m\u001b[38;5;208mW \u001b[0m\u001b[38;5;208mU \u001b[0m\u001b[38;5;208mO \u001b[0m\u001b[38;5;208mC \u001b[0m\u001b[38;5;208mE \u001b[0m\u001b[38;5;208mD \u001b[0mS B T V I H L P R \n",
      "\n",
      "Children are: \n",
      "C1: K Z M N J A Y G W \u001b[38;5;51mI \u001b[0m\u001b[38;5;51mB \u001b[0m\u001b[38;5;51mH \u001b[0m\u001b[38;5;51mX \u001b[0m\u001b[38;5;51mP \u001b[0m\u001b[38;5;51mR \u001b[0m\u001b[38;5;51mF \u001b[0mO C E D S T V L Q \n",
      "C2: T M S V I B H X P \u001b[38;5;51mG \u001b[0m\u001b[38;5;51mW \u001b[0m\u001b[38;5;51mU \u001b[0m\u001b[38;5;51mO \u001b[0m\u001b[38;5;51mC \u001b[0m\u001b[38;5;51mE \u001b[0m\u001b[38;5;51mD \u001b[0mF L Y A J K N Z Q \n"
     ]
    }
   ],
   "source": [
    "C1, C2 = ordered_crossover(P1, P2, (9, 16))\n",
    "print(\"Parents were: \")\n",
    "tsp_printer(P1, \"P1\", (9, 16), 208)\n",
    "tsp_printer(P2, \"P2\", (9, 16), 208)\n",
    "\n",
    "print(\"\\nChildren are: \")\n",
    "tsp_printer(C1, \"C1\", (9, 16), 51)\n",
    "tsp_printer(C2, \"C2\", (9, 16), 51)"
   ]
  },
  {
   "attachments": {},
   "cell_type": "markdown",
   "metadata": {},
   "source": [
    "#### 2. Partially Mapped Crossover"
   ]
  },
  {
   "cell_type": "code",
   "execution_count": 45,
   "metadata": {},
   "outputs": [],
   "source": [
    "def partially_mapped_crossover(P1: list[str], P2: list[str]) -> tuple[list[str], list[str]]:\n",
    "  C1, C2 = [], []\n",
    "  \n",
    "  return C1, C2"
   ]
  }
 ],
 "metadata": {
  "kernelspec": {
   "display_name": "Python 3",
   "language": "python",
   "name": "python3"
  },
  "language_info": {
   "codemirror_mode": {
    "name": "ipython",
    "version": 3
   },
   "file_extension": ".py",
   "mimetype": "text/x-python",
   "name": "python",
   "nbconvert_exporter": "python",
   "pygments_lexer": "ipython3",
   "version": "3.11.1"
  },
  "orig_nbformat": 4,
  "vscode": {
   "interpreter": {
    "hash": "ebea062570bddf9f0ff82298a6abaa90fdb7e45f04beda4ebff22dcf96d4b6e4"
   }
  }
 },
 "nbformat": 4,
 "nbformat_minor": 2
}
